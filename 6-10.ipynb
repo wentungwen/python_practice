{
 "cells": [
  {
   "cell_type": "code",
   "execution_count": null,
   "metadata": {},
   "outputs": [],
   "source": [
    "travel_log = [\n",
    "{\n",
    "  \"country\": \"France\",\n",
    "  \"visits\": 12,\n",
    "  \"cities\": [\"Paris\", \"Lille\", \"Dijon\"]\n",
    "},\n",
    "{\n",
    "  \"country\": \"Germany\",\n",
    "  \"visits\": 5,\n",
    "  \"cities\": [\"Berlin\", \"Hamburg\", \"Stuttgart\"]\n",
    "},\n",
    "]\n",
    "\n",
    "def add_new_country(country, visit, places):\n",
    "    new_country={}\n",
    "    new_country['country'] = country\n",
    "    new_country['visits'] = visit\n",
    "    new_country['places'] = places\n",
    "    travel_log.append(new_country)\n",
    "    \n",
    "add_new_country(\"Russia\", 2, [\"Moscow\", \"Saint Petersburg\"])\n",
    "print(travel_log)"
   ]
  },
  {
   "cell_type": "code",
   "execution_count": null,
   "metadata": {},
   "outputs": [],
   "source": [
    "# grade ranking\n",
    "student_scores = {\n",
    "    \"Harry\": 81,\n",
    "    \"Ron\": 78,\n",
    "    \"Hermione\": 99,\n",
    "    \"Draco\": 74,\n",
    "    \"Neville\": 62,\n",
    "}\n",
    "student_grades = {}\n",
    "for name in student_scores:\n",
    "    score = student_scores[name]\n",
    "    if score > 91:\n",
    "        student_scores[name] = \"Outstanding\"\n",
    "    elif score > 81:\n",
    "        student_scores[name] = \"Exceeds Expectations\"\n",
    "    elif score < 71:\n",
    "        student_scores[name] = \"Acceptable\"\n",
    "    else:\n",
    "        student_scores[name] = \"Fail\"\n",
    "student_grades = student_scores\n",
    "print(student_grades)\n"
   ]
  },
  {
   "cell_type": "code",
   "execution_count": 2,
   "metadata": {},
   "outputs": [
    {
     "name": "stdout",
     "output_type": "stream",
     "text": [
      "key1\n",
      "value1_1\n",
      "key2\n",
      "value2\n",
      "key3\n",
      "value3\n",
      "key4\n",
      "value4\n"
     ]
    }
   ],
   "source": [
    "# dic basic\n",
    "dic = {\n",
    "    'key1': 'value1',\n",
    "    'key2': 'value2',\n",
    "    'key3': 'value3'\n",
    "}\n",
    "# reach item\n",
    "dic[\"key1\"]\n",
    "# edit item\n",
    "dic[\"key1\"] = \"value1_1\"\n",
    "# add new\n",
    "dic[\"key4\"] = \"value4\"\n",
    "# loop through \"key\" and \"value\"\n",
    "for key in dic:\n",
    "    print(key)\n",
    "    print(dic[key])\n"
   ]
  },
  {
   "cell_type": "code",
   "execution_count": null,
   "metadata": {},
   "outputs": [],
   "source": [
    "# paint can calculator\n",
    "def paint_calc(height, width, cover):\n",
    "    cans = round((height*width)/cover)\n",
    "    print(f\"You'll need {cans} cans of paint.\")\n",
    "\n",
    "\n",
    "test_h = int(input(\"Height of wall: \"))\n",
    "test_w = int(input(\"Width of wall: \"))\n",
    "coverage = 5\n",
    "paint_calc(height=test_h, width=test_w, cover=coverage)\n"
   ]
  },
  {
   "cell_type": "code",
   "execution_count": null,
   "metadata": {},
   "outputs": [],
   "source": [
    "# prime number\n",
    "def prime_checker(number):\n",
    "    is_prime = True\n",
    "    for n in range(2, number):\n",
    "        if number % n == 0:\n",
    "            is_prime = False\n",
    "    if is_prime == False:\n",
    "        print(\"It's not a prime number.\")\n",
    "    elif is_prime == True:\n",
    "        print(\"It's a prime number.\")\n",
    "\n",
    "\n",
    "n = int(input(\"Check this number: \"))\n",
    "prime_checker(number=n)\n"
   ]
  }
 ],
 "metadata": {
  "kernelspec": {
   "display_name": "Python 3.8.12 ('base')",
   "language": "python",
   "name": "python3"
  },
  "language_info": {
   "codemirror_mode": {
    "name": "ipython",
    "version": 3
   },
   "file_extension": ".py",
   "mimetype": "text/x-python",
   "name": "python",
   "nbconvert_exporter": "python",
   "pygments_lexer": "ipython3",
   "version": "3.8.12"
  },
  "orig_nbformat": 4,
  "vscode": {
   "interpreter": {
    "hash": "ce03fa463f867214dc4af8c8ded60fe73abea332d8a854d0b8f1d5be5cff9b29"
   }
  }
 },
 "nbformat": 4,
 "nbformat_minor": 2
}
