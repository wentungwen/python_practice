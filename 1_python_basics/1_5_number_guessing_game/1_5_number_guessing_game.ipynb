{
 "cells": [
  {
   "cell_type": "code",
   "execution_count": 4,
   "metadata": {},
   "outputs": [
    {
     "name": "stderr",
     "output_type": "stream",
     "text": [
      "sh: cls: command not found\n"
     ]
    },
    {
     "name": "stdout",
     "output_type": "stream",
     "text": [
      "  Welcome to Guessing Game!\n",
      " \n",
      "  ____ __ __   ___ ______________ ____   ____       ____  ____ ___ ___   ___ \n",
      " /    |  |  | /  _] ___/ ___/    |    \\ /    |     /    |/    |   |   | /  _]\n",
      "|   __|  |  |/  [(   \\(   \\_ |  ||  _  |   __|    |   __|  o  | _   _ |/  [_ \n",
      "|  |  |  |  |    _]__  \\__  ||  ||  |  |  |  |    |  |  |     |  \\_/  |    _]\n",
      "|  |_ |  :  |   [_/  \\ /  \\ ||  ||  |  |  |_ |    |  |_ |  _  |   |   |   [_ \n",
      "|     |     |     \\    \\    ||  ||  |  |     |    |     |  |  |   |   |     |\n",
      "|___,_|\\__,_|_____|\\___|\\___|____|__|__|___,_|    |___,_|__|__|___|___|_____|\n",
      "                                                                             \n",
      "\n",
      "3\n",
      "You are right! Congrats! The correct answer is 28\n"
     ]
    }
   ],
   "source": [
    "import random\n",
    "import os\n",
    "clear = lambda: os.system('cls')\n",
    "import logo_data as logo \n",
    "\n",
    "is_game_end = False\n",
    "EASY_LEVEL = 10\n",
    "HARD_LEVEL = 5\n",
    "\n",
    "def set_difficulty():\n",
    "   if input('Choose a level: [\"Easy\", \"Hard\"]: ') == 'Easy' or 'easy':\n",
    "    return EASY_LEVEL\n",
    "   else:\n",
    "    return HARD_LEVEL\n",
    "\n",
    "def play_game():\n",
    "  print(f\"  Welcome to Guessing Game!\\n {logo.logo_guessing}\")\n",
    "  target_num = random.randint(0,100)\n",
    "  attempt = set_difficulty()\n",
    "  print(f\"  Your attempt is {attempt}\\n   Tip: {target_num}\")\n",
    "  answer = int(input(\"Guess a number between 1-100: \"))\n",
    "  # try until attempt == 0\n",
    "  while not attempt == 0:\n",
    "    if answer > target_num:\n",
    "      answer = int(input(f\"lower! {attempt} times. Try again: \"))\n",
    "      attempt-=1\n",
    "    elif answer < target_num:\n",
    "      answer = int(input(f\"higher! {attempt} times. Try again: \"))\n",
    "      attempt-=1\n",
    "    elif answer == target_num:\n",
    "      print(f\"You are right! Congrats! The correct answer is {target_num}\")\n",
    "      attempt = 0\n",
    "    else:\n",
    "      print('You lose! ')\n",
    "  \n",
    "while is_game_end == False:\n",
    "  clear()\n",
    "  play_game()\n",
    "  if input(\"restart the game? y/n: \") == 'n':\n",
    "    is_game_end = True\n",
    "\n",
    "  \n"
   ]
  }
 ],
 "metadata": {
  "kernelspec": {
   "display_name": "Python 3",
   "language": "python",
   "name": "python3"
  },
  "language_info": {
   "codemirror_mode": {
    "name": "ipython",
    "version": 3
   },
   "file_extension": ".py",
   "mimetype": "text/x-python",
   "name": "python",
   "nbconvert_exporter": "python",
   "pygments_lexer": "ipython3",
   "version": "3.9.6"
  },
  "orig_nbformat": 4,
  "vscode": {
   "interpreter": {
    "hash": "31f2aee4e71d21fbe5cf8b01ff0e069b9275f58929596ceb00d14d90e3e16cd6"
   }
  }
 },
 "nbformat": 4,
 "nbformat_minor": 2
}
