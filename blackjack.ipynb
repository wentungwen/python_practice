{
 "cells": [
  {
   "cell_type": "code",
   "execution_count": null,
   "metadata": {},
   "outputs": [],
   "source": [
    "# How do you beat the dealer?\n",
    "\n",
    "# By drawing a hand value that is higher than the dealer’s hand value\n",
    "# By the dealer drawing a hand value that goes over 21.\n",
    "# By drawing a hand value of 21 on your first two cards, when the dealer does not.\n",
    "\n",
    "# How do you lose to the dealer? \n",
    "\n",
    "# Your hand value exceeds 21.\n",
    "# The dealers hand has a greater value than yours at the end of the round\n",
    "\n",
    "# kjq == 10\n",
    "# Ace can count as 1 or 11\n",
    "# hit = player adds a card\n",
    "# stand = open the result\n",
    "# if dealer < 17, adding card"
   ]
  }
 ],
 "metadata": {
  "language_info": {
   "name": "python"
  },
  "orig_nbformat": 4
 },
 "nbformat": 4,
 "nbformat_minor": 2
}
