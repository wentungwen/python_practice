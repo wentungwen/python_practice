{
 "cells": [
  {
   "cell_type": "code",
   "execution_count": null,
   "metadata": {},
   "outputs": [],
   "source": [
    "# How do you beat the dealer?\n",
    "\n",
    "# By drawing a hand value that is higher than the dealer’s hand value\n",
    "# By the dealer drawing a hand value that goes over 21.\n",
    "# By drawing a hand value of 21 on your first two cards, when the dealer does not.\n",
    "\n",
    "# How do you lose to the dealer? \n",
    "\n",
    "# Your hand value exceeds 21.\n",
    "# The dealers hand has a greater value than yours at the end of the round\n",
    "\n",
    "# kjq == 10\n",
    "# Ace can count as 1 or 11\n",
    "# hit = player adds a card\n",
    "# stand = open the result\n",
    "# if dealer < 17, adding card"
   ]
  }
 ],
 "metadata": {
  "kernelspec": {
   "display_name": "Python 3.8.12 ('base')",
   "language": "python",
   "name": "python3"
  },
  "language_info": {
   "name": "python",
   "version": "3.8.12"
  },
  "orig_nbformat": 4,
  "vscode": {
   "interpreter": {
    "hash": "ce03fa463f867214dc4af8c8ded60fe73abea332d8a854d0b8f1d5be5cff9b29"
   }
  }
 },
 "nbformat": 4,
 "nbformat_minor": 2
}
