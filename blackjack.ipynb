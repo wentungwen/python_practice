{
 "cells": [
  {
   "cell_type": "code",
   "execution_count": 30,
   "metadata": {},
   "outputs": [
    {
     "name": "stdout",
     "output_type": "stream",
     "text": [
      "10 0\n",
      "11 1\n",
      "12 2\n",
      "10 3\n",
      "11 4\n",
      "12 5\n",
      "10 6\n",
      "11 7\n",
      "12 8\n",
      "10 9\n",
      "11 10\n",
      "12 11\n",
      "['J', 11, 12, 'J', 11, 12, 'K', 11, 12, 'Q', 11, 12]\n",
      "player [10, 11, 12, 10, 11, 12, 10, 11, 12, 10, 11, 12]\n"
     ]
    }
   ],
   "source": [
    "import random\n",
    "player=[10,11,12,10,11,12,10,11,12,10,11,12] \n",
    "number_list= [1,2,3,4,5,6,7,8,9,10,10,10,10,11]\n",
    "alphabet_list = ['K', 'J', 'Q', 'A']\n",
    "\n",
    "\n",
    "def show_card(game):\n",
    "  game_show = []+game\n",
    "  for (idx, n) in enumerate(game_show):\n",
    "      print(n, idx)\n",
    "      if n == 10:\n",
    "          game_show[idx] = alphabet_list[random.randint(0, 2)]\n",
    "      elif n== 1 or 11:\n",
    "          n = \"A\"\n",
    "  return game_show\n",
    "\n",
    "print(show_card(player))\n",
    "print(f\"player {player}\")\n",
    "\n"
   ]
  },
  {
   "cell_type": "code",
   "execution_count": 3,
   "metadata": {},
   "outputs": [
    {
     "name": "stdout",
     "output_type": "stream",
     "text": [
      "[10, 3, 5] 18\n",
      "Your card is [10, 3, 5] / total: 18,\n",
      " dealer's first card is 3 \n"
     ]
    },
    {
     "ename": "TypeError",
     "evalue": "unsupported operand type(s) for +=: 'int' and 'function'",
     "output_type": "error",
     "traceback": [
      "\u001b[1;31m---------------------------------------------------------------------------\u001b[0m",
      "\u001b[1;31mTypeError\u001b[0m                                 Traceback (most recent call last)",
      "\u001b[1;32m~\\AppData\\Local\\Temp/ipykernel_8156/170428785.py\u001b[0m in \u001b[0;36m<module>\u001b[1;34m\u001b[0m\n\u001b[0;32m     62\u001b[0m             \u001b[0mprint\u001b[0m\u001b[1;33m(\u001b[0m\u001b[1;34m\"you win! \"\u001b[0m\u001b[1;33m,\u001b[0m\u001b[0mresult\u001b[0m\u001b[1;33m)\u001b[0m\u001b[1;33m\u001b[0m\u001b[1;33m\u001b[0m\u001b[0m\n\u001b[0;32m     63\u001b[0m \u001b[1;33m\u001b[0m\u001b[0m\n\u001b[1;32m---> 64\u001b[1;33m \u001b[0mplay_game\u001b[0m\u001b[1;33m(\u001b[0m\u001b[1;33m)\u001b[0m\u001b[1;33m\u001b[0m\u001b[1;33m\u001b[0m\u001b[0m\n\u001b[0m\u001b[0;32m     65\u001b[0m \u001b[1;33m\u001b[0m\u001b[0m\n\u001b[0;32m     66\u001b[0m \u001b[1;31m# do you want to play a game? Type y/n\u001b[0m\u001b[1;33m\u001b[0m\u001b[1;33m\u001b[0m\u001b[1;33m\u001b[0m\u001b[0m\n",
      "\u001b[1;32m~\\AppData\\Local\\Temp/ipykernel_8156/170428785.py\u001b[0m in \u001b[0;36mplay_game\u001b[1;34m()\u001b[0m\n\u001b[0;32m     52\u001b[0m     \u001b[1;31m# user end the game\u001b[0m\u001b[1;33m\u001b[0m\u001b[1;33m\u001b[0m\u001b[1;33m\u001b[0m\u001b[0m\n\u001b[0;32m     53\u001b[0m     \u001b[1;32melse\u001b[0m\u001b[1;33m:\u001b[0m\u001b[1;33m\u001b[0m\u001b[1;33m\u001b[0m\u001b[0m\n\u001b[1;32m---> 54\u001b[1;33m         \u001b[1;32mwhile\u001b[0m \u001b[0mcalculate_amount\u001b[0m\u001b[1;33m(\u001b[0m\u001b[0mdealer\u001b[0m\u001b[1;33m)\u001b[0m \u001b[1;33m<\u001b[0m\u001b[1;36m17\u001b[0m\u001b[1;33m:\u001b[0m\u001b[1;33m\u001b[0m\u001b[1;33m\u001b[0m\u001b[0m\n\u001b[0m\u001b[0;32m     55\u001b[0m             \u001b[0mdealer\u001b[0m\u001b[1;33m.\u001b[0m\u001b[0mappend\u001b[0m\u001b[1;33m(\u001b[0m\u001b[0mget_ram_alphabet\u001b[0m\u001b[1;33m)\u001b[0m\u001b[1;33m\u001b[0m\u001b[1;33m\u001b[0m\u001b[0m\n\u001b[0;32m     56\u001b[0m \u001b[1;33m\u001b[0m\u001b[0m\n",
      "\u001b[1;32m~\\AppData\\Local\\Temp/ipykernel_8156/170428785.py\u001b[0m in \u001b[0;36mcalculate_amount\u001b[1;34m(game)\u001b[0m\n\u001b[0;32m     13\u001b[0m     \u001b[0mgame_amount\u001b[0m \u001b[1;33m=\u001b[0m \u001b[1;36m0\u001b[0m\u001b[1;33m\u001b[0m\u001b[1;33m\u001b[0m\u001b[0m\n\u001b[0;32m     14\u001b[0m     \u001b[1;32mfor\u001b[0m \u001b[0mn\u001b[0m \u001b[1;32min\u001b[0m \u001b[0mgame\u001b[0m\u001b[1;33m:\u001b[0m\u001b[1;33m\u001b[0m\u001b[1;33m\u001b[0m\u001b[0m\n\u001b[1;32m---> 15\u001b[1;33m         \u001b[0mgame_amount\u001b[0m \u001b[1;33m+=\u001b[0m \u001b[0mn\u001b[0m\u001b[1;33m\u001b[0m\u001b[1;33m\u001b[0m\u001b[0m\n\u001b[0m\u001b[0;32m     16\u001b[0m     \u001b[1;32mreturn\u001b[0m \u001b[0mgame_amount\u001b[0m\u001b[1;33m\u001b[0m\u001b[1;33m\u001b[0m\u001b[0m\n\u001b[0;32m     17\u001b[0m \u001b[1;33m\u001b[0m\u001b[0m\n",
      "\u001b[1;31mTypeError\u001b[0m: unsupported operand type(s) for +=: 'int' and 'function'"
     ]
    }
   ],
   "source": [
    "import random\n",
    "import os\n",
    "clear = lambda: os.system('cls')\n",
    "\n",
    "number_list= [1,2,3,4,5,6,7,8,9,10,10,10,10,11]\n",
    "alphabet_list = ['K', 'J', 'Q', 'A']\n",
    "\n",
    "# if dealer_amount < 11 and ram_alphabet == 1:\n",
    "\n",
    "def get_ram_alphabet():\n",
    "    return number_list[random.randint(1, len(number_list)-1)]\n",
    "\n",
    "def calculate_amount(game):\n",
    "    game_amount = 0\n",
    "    for n in game:\n",
    "        game_amount += n\n",
    "    return game_amount\n",
    "\n",
    "\n",
    "# get and count number\n",
    "dealer=[get_ram_alphabet(), get_ram_alphabet()]\n",
    "player=[get_ram_alphabet(), get_ram_alphabet()]\n",
    "\n",
    "def show_card(game):\n",
    "  game_show = []+game\n",
    "  for (idx, n) in enumerate(game_show):\n",
    "      print(n, idx)\n",
    "      if n == 10:\n",
    "          game_show[idx] = alphabet_list[random.randint(0, 2)]\n",
    "      elif n== 1 or 11:\n",
    "          n = \"A\"\n",
    "  return game_show\n",
    "\n",
    "def play_game():\n",
    "    # wins if has J+1\n",
    "    if player.count('10' and '11'):\n",
    "        if dealer.count('10'and '11'):\n",
    "            print('you win')\n",
    "        else:\n",
    "            print('you lose')\n",
    "    \n",
    "    # add until user say no, and than check if >21\n",
    "    print(f\"Your card is {show_card(player)}, and total: {calculate_amount(player)},\\n dealer's first card is {(show_card(dealer))} \")\n",
    "    add_card = input(\"Do you want to add card? n/y: \")\n",
    "    # yes and add card\n",
    "    while add_card != 'n':\n",
    "        player.append(get_ram_alphabet())\n",
    "        print(f\"Your card is {show_card(player)}, and total: {calculate_amount(player)}\")\n",
    "        # show the card \n",
    "        if calculate_amount(player) > 21:\n",
    "            add_card = 'n'\n",
    "        else: \n",
    "            add_card = input(\"Do you want to add card? n/y: \")\n",
    "    else:\n",
    "      end_game(player, dealer)\n",
    "        \n",
    "\n",
    "def end_game(player, dealer):\n",
    "    # user end the game\n",
    "  player_score = calculate_amount(player)\n",
    "  dealer_score = calculate_amount(dealer)\n",
    "      \n",
    "  print(f\"Your card is {show_card(player)}, and total: {player_score},\\n dealer's card is {show_card(dealer)}, and total: {dealer_score} \")\n",
    "  if player_score > 21:\n",
    "      print(\"you lose! \")\n",
    "  else:\n",
    "    while dealer_score <17:\n",
    "        dealer.append(get_ram_alphabet())\n",
    "        dealer_score = calculate_amount(dealer)\n",
    "    if dealer_score > 21:\n",
    "        print(\"you win! \")\n",
    "    elif player_score < dealer_score:\n",
    "        print(\"you lose!\")\n",
    "    elif player_score > dealer_score:\n",
    "        print(\"you win!\")\n",
    "\n",
    "    \n",
    "if input('do you want to start the game? Type y/n: ') == 'y':\n",
    "  clear()\n",
    "  play_game()\n",
    "else:\n",
    "  print(\"the game is end.\")"
   ]
  }
 ],
 "metadata": {
  "kernelspec": {
   "display_name": "Python 3.8.12 ('base')",
   "language": "python",
   "name": "python3"
  },
  "language_info": {
   "codemirror_mode": {
    "name": "ipython",
    "version": 3
   },
   "file_extension": ".py",
   "mimetype": "text/x-python",
   "name": "python",
   "nbconvert_exporter": "python",
   "pygments_lexer": "ipython3",
   "version": "3.8.12"
  },
  "orig_nbformat": 4,
  "vscode": {
   "interpreter": {
    "hash": "ce03fa463f867214dc4af8c8ded60fe73abea332d8a854d0b8f1d5be5cff9b29"
   }
  }
 },
 "nbformat": 4,
 "nbformat_minor": 2
}
