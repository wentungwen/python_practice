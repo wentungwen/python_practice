{
 "cells": [
  {
   "cell_type": "code",
   "execution_count": 3,
   "metadata": {},
   "outputs": [
    {
     "name": "stdout",
     "output_type": "stream",
     "text": [
      "Your card is [11, 6] / total: 17,\n",
      " dealer's first card is 11 \n"
     ]
    }
   ],
   "source": [
    "import random\n",
    "\n",
    "alphabets_lists= [1,2,3,4,5,6,7,8,9,10,10,10,10,11]\n",
    "end_game = False\n",
    "play_again = False\n",
    "\n",
    "# if dealer_amount < 11 and ram_alphabet == 1:\n",
    "\n",
    "def get_ram_alphabet():\n",
    "    return alphabets_lists[random.randint(1, len(alphabets_lists)-1)]\n",
    "\n",
    "def calculate_amount(game, game_amount = 0):\n",
    "    for n in game:\n",
    "        game_amount += n\n",
    "    return game_amount\n",
    "\n",
    "# get and count number\n",
    "dealer=[get_ram_alphabet(), get_ram_alphabet()]\n",
    "player=[get_ram_alphabet(), get_ram_alphabet()]\n",
    "\n",
    "# calculate the amount\n",
    "player_amount = calculate_amount(player)\n",
    "dealer_amount = calculate_amount(dealer)\n",
    "\n",
    "if input('do you want to play a game? Type y/n') == 'y':\n",
    "    play_again = True\n",
    "\n",
    "def play_game():\n",
    "    # wins if has J+1\n",
    "    if player.count('10' and '11'):\n",
    "        if dealer.count('10'and '11'):\n",
    "            print('you win')\n",
    "        else:\n",
    "            print('you lose')\n",
    "    \n",
    "    # show the card \n",
    "    result = print(f\"Your card is {player} / total: {player_amount},\\n dealer's first card is {dealer[0]} \")\n",
    "    \n",
    "    # add until user say no, and than check if >21\n",
    "    add_card = input(f\"Do you want to add card? n/y\")\n",
    "    while add_card != 'n':\n",
    "        player.append(get_ram_alphabet())\n",
    "        print(player, player_amount)\n",
    "        if player_amount > 21:\n",
    "            print(\"you lose because it is more than 21 \",result)\n",
    "            add_card = 'n'\n",
    "        \n",
    "    # user end the game\n",
    "    else:\n",
    "        while dealer_amount <17:\n",
    "            dealer.append(get_ram_alphabet)\n",
    "        \n",
    "        if dealer_amount > 21:\n",
    "            print(\"you win\", result)\n",
    "        elif player_amount < dealer_amount:\n",
    "            print(\"you lose because the dealer's is more than you.\",result)\n",
    "        else:\n",
    "            print(\"you win! \",result)\n",
    "    \n",
    "play_game()\n",
    "\n",
    "\n",
    "\n",
    "\n",
    "# do you want to play a game? Type y/n\n",
    "    # user wins if has J+1\n",
    "# show art, and shows users card: [2,3]. computer's first card:2\n",
    "# Do you want to get another card? y get and n pass\n",
    "    # n: show final card, \n",
    "        # if user > 21\n",
    "        # if dealer < 17, adding card\n",
    "        # if user>cpu, win\n",
    "    # y: add another num to array\n",
    "#  do you want to play a game? Type y/n"
   ]
  }
 ],
 "metadata": {
  "kernelspec": {
   "display_name": "Python 3.8.12 ('base')",
   "language": "python",
   "name": "python3"
  },
  "language_info": {
   "codemirror_mode": {
    "name": "ipython",
    "version": 3
   },
   "file_extension": ".py",
   "mimetype": "text/x-python",
   "name": "python",
   "nbconvert_exporter": "python",
   "pygments_lexer": "ipython3",
   "version": "3.8.12"
  },
  "orig_nbformat": 4,
  "vscode": {
   "interpreter": {
    "hash": "ce03fa463f867214dc4af8c8ded60fe73abea332d8a854d0b8f1d5be5cff9b29"
   }
  }
 },
 "nbformat": 4,
 "nbformat_minor": 2
}
