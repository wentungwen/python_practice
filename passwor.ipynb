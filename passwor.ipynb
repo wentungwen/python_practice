{
 "cells": [
  {
   "cell_type": "code",
   "execution_count": 1,
   "metadata": {},
   "outputs": [
    {
     "name": "stdout",
     "output_type": "stream",
     "text": [
      "Welcome to the PyPassword Generator!\n",
      "the easy password is:rC019%$&\n",
      "['r', 'C', '0', '1', '9', '%', '$', '&']\n",
      "the hard password is: None\n"
     ]
    }
   ],
   "source": [
    "# password generator\n",
    "import random\n",
    "letters = ['a', 'b', 'c', 'd', 'e', 'f', 'g', 'h', 'i', 'j', 'k', 'l', 'm', 'n', 'o', 'p', 'q', 'r', 's', 't', 'u', 'v', 'w', 'x', 'y', 'z', 'A', 'B', 'C', 'D', 'E', 'F', 'G', 'H', 'I', 'J', 'K', 'L', 'M', 'N', 'O', 'P', 'Q', 'R', 'S', 'T', 'U', 'V', 'W', 'X', 'Y', 'Z']\n",
    "numbers = ['0', '1', '2', '3', '4', '5', '6', '7', '8', '9']\n",
    "symbols = ['!', '#', '$', '%', '&', '(', ')', '*', '+']\n",
    "\n",
    "print(\"Welcome to the PyPassword Generator!\")\n",
    "nr_letters= int(input(\"How many letters would you like in your password?\\n\")) \n",
    "nr_symbols = int(input(f\"How many symbols would you like?\\n\"))\n",
    "nr_numbers = int(input(f\"How many numbers would you like?\\n\"))\n",
    "\n",
    "#Eazy Level - Order not randomised:\n",
    "#e.g. 4 letter, 2 symbol, 2 number = JduE&!91\n",
    "password=\"\"\n",
    "for n in range(nr_letters):\n",
    "  password+= letters[random.randint(0, (len(letters)-1))]\n",
    "for n in range(nr_numbers):\n",
    "  password+= numbers[random.randint(0, (len(numbers)-1))]\n",
    "for n in range(nr_symbols):\n",
    "  password+= symbols[random.randint(0, (len(symbols)-1))]\n",
    "print(f'the easy password is:{password}')\n",
    "  \n",
    "#Hard Level - Order of characters randomised:\n",
    "#e.g. 4 letter, 2 symbol, 2 number = g^2jk8&P\n",
    "cpx_password = list(password)\n",
    "\n",
    "print(cpx_password)\n",
    "for i in range(len(cpx_password)):\n",
    "  j = random.randint(0, len(cpx_password)-1)\n",
    "  cpx_password[i], cpx_password[j] = cpx_password[j], cpx_password[i] \n",
    "  \n",
    "print(f'the hard password is: {random.shuffle(cpx_password)}')"
   ]
  }
 ],
 "metadata": {
  "kernelspec": {
   "display_name": "Python 3",
   "language": "python",
   "name": "python3"
  },
  "language_info": {
   "codemirror_mode": {
    "name": "ipython",
    "version": 3
   },
   "file_extension": ".py",
   "mimetype": "text/x-python",
   "name": "python",
   "nbconvert_exporter": "python",
   "pygments_lexer": "ipython3",
   "version": "3.9.6"
  },
  "orig_nbformat": 4,
  "vscode": {
   "interpreter": {
    "hash": "31f2aee4e71d21fbe5cf8b01ff0e069b9275f58929596ceb00d14d90e3e16cd6"
   }
  }
 },
 "nbformat": 4,
 "nbformat_minor": 2
}
