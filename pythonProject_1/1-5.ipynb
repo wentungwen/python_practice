{
 "cells": [
  {
   "cell_type": "code",
   "execution_count": 11,
   "metadata": {},
   "outputs": [
    {
     "name": "stdout",
     "output_type": "stream",
     "text": [
      "Welcome to the PyPassword Generator!\n",
      "the easy password is:hZ74*+\n",
      "['h', 'Z', '7', '4', '*', '+']\n",
      "the hard password is: None\n"
     ]
    }
   ],
   "source": [
    "# password generator\n",
    "import random\n",
    "letters = ['a', 'b', 'c', 'd', 'e', 'f', 'g', 'h', 'i', 'j', 'k', 'l', 'm', 'n', 'o', 'p', 'q', 'r', 's', 't', 'u', 'v', 'w', 'x', 'y', 'z', 'A', 'B', 'C', 'D', 'E', 'F', 'G', 'H', 'I', 'J', 'K', 'L', 'M', 'N', 'O', 'P', 'Q', 'R', 'S', 'T', 'U', 'V', 'W', 'X', 'Y', 'Z']\n",
    "numbers = ['0', '1', '2', '3', '4', '5', '6', '7', '8', '9']\n",
    "symbols = ['!', '#', '$', '%', '&', '(', ')', '*', '+']\n",
    "\n",
    "print(\"Welcome to the PyPassword Generator!\")\n",
    "nr_letters= int(input(\"How many letters would you like in your password?\\n\")) \n",
    "nr_symbols = int(input(f\"How many symbols would you like?\\n\"))\n",
    "nr_numbers = int(input(f\"How many numbers would you like?\\n\"))\n",
    "\n",
    "#Eazy Level - Order not randomised:\n",
    "#e.g. 4 letter, 2 symbol, 2 number = JduE&!91\n",
    "password=\"\"\n",
    "for n in range(nr_letters):\n",
    "  password+= letters[random.randint(0, (len(letters)-1))]\n",
    "for n in range(nr_numbers):\n",
    "  password+= numbers[random.randint(0, (len(numbers)-1))]\n",
    "for n in range(nr_symbols):\n",
    "  password+= symbols[random.randint(0, (len(symbols)-1))]\n",
    "print(f'the easy password is:{password}')\n",
    "  \n",
    "#Hard Level - Order of characters randomised:\n",
    "#e.g. 4 letter, 2 symbol, 2 number = g^2jk8&P\n",
    "cpx_password = list(password)\n",
    "\n",
    "print(cpx_password)\n",
    "for i in range(len(cpx_password)):\n",
    "  j = random.randint(0, len(cpx_password)-1)\n",
    "  cpx_password[i], cpx_password[j] = cpx_password[j], cpx_password[i] \n",
    "  \n",
    "print(f'the hard password is: {random.shuffle(cpx_password)}')"
   ]
  },
  {
   "cell_type": "code",
   "execution_count": 6,
   "metadata": {},
   "outputs": [
    {
     "name": "stdout",
     "output_type": "stream",
     "text": [
      "Buzz\n",
      "Buzz\n",
      "3\n",
      "Buzz\n",
      "Buzz\n",
      "6\n",
      "Buzz\n",
      "Buzz\n",
      "9\n",
      "Buzz\n",
      "Buzz\n",
      "12\n",
      "Buzz\n",
      "Buzz\n",
      "FizzBuzz\n",
      "Buzz\n",
      "Buzz\n",
      "18\n",
      "Buzz\n",
      "Buzz\n",
      "21\n",
      "Buzz\n",
      "Buzz\n",
      "24\n",
      "Buzz\n",
      "Buzz\n",
      "27\n",
      "Buzz\n",
      "Buzz\n",
      "FizzBuzz\n",
      "Buzz\n",
      "Buzz\n",
      "33\n",
      "Buzz\n",
      "Buzz\n",
      "36\n",
      "Buzz\n",
      "Buzz\n",
      "39\n",
      "Buzz\n",
      "Buzz\n",
      "42\n",
      "Buzz\n",
      "Buzz\n",
      "FizzBuzz\n",
      "Buzz\n",
      "Buzz\n",
      "48\n",
      "Buzz\n",
      "Buzz\n",
      "51\n",
      "Buzz\n",
      "Buzz\n",
      "54\n",
      "Buzz\n",
      "Buzz\n",
      "57\n",
      "Buzz\n",
      "Buzz\n",
      "FizzBuzz\n",
      "Buzz\n",
      "Buzz\n",
      "63\n",
      "Buzz\n",
      "Buzz\n",
      "66\n",
      "Buzz\n",
      "Buzz\n",
      "69\n",
      "Buzz\n",
      "Buzz\n",
      "72\n",
      "Buzz\n",
      "Buzz\n",
      "FizzBuzz\n",
      "Buzz\n",
      "Buzz\n",
      "78\n",
      "Buzz\n",
      "Buzz\n",
      "81\n",
      "Buzz\n",
      "Buzz\n",
      "84\n",
      "Buzz\n",
      "Buzz\n",
      "87\n",
      "Buzz\n",
      "Buzz\n",
      "FizzBuzz\n",
      "Buzz\n",
      "Buzz\n",
      "93\n",
      "Buzz\n",
      "Buzz\n",
      "96\n",
      "Buzz\n",
      "Buzz\n",
      "99\n",
      "Buzz\n"
     ]
    }
   ],
   "source": [
    "# FizzBuzz\n",
    "for n in range(1, 101):\n",
    "    if n%3==0 and n%5==0:\n",
    "        print(\"FizzBuzz\")\n",
    "    elif n%3!=0:\n",
    "        print(\"Buzz\")\n",
    "    elif n%5==0:\n",
    "        print(\"Fizz\")\n",
    "    else:\n",
    "        print(n)"
   ]
  },
  {
   "cell_type": "code",
   "execution_count": 7,
   "metadata": {},
   "outputs": [
    {
     "name": "stdout",
     "output_type": "stream",
     "text": [
      "The highest score in the class is: 0\n"
     ]
    }
   ],
   "source": [
    "# the highest score\n",
    "student_scores = input(\"Input a list of student scores \").split()\n",
    "for n in range(0, len(student_scores)):\n",
    "  student_scores[n] = int(student_scores[n])\n",
    "highest=0\n",
    "for student_score in student_scores:\n",
    "    if student_score-highest > 0:\n",
    "        highest=student_score\n",
    "\n",
    "print(\"The highest score in the class is: \"+str(highest))"
   ]
  },
  {
   "cell_type": "code",
   "execution_count": 8,
   "metadata": {},
   "outputs": [
    {
     "ename": "ZeroDivisionError",
     "evalue": "division by zero",
     "output_type": "error",
     "traceback": [
      "\u001b[0;31m---------------------------------------------------------------------------\u001b[0m",
      "\u001b[0;31mZeroDivisionError\u001b[0m                         Traceback (most recent call last)",
      "Cell \u001b[0;32mIn[8], line 8\u001b[0m\n\u001b[1;32m      6\u001b[0m \u001b[39mfor\u001b[39;00m student_height \u001b[39min\u001b[39;00m student_heights:\n\u001b[1;32m      7\u001b[0m     total\u001b[39m+\u001b[39m\u001b[39m=\u001b[39m student_height\n\u001b[0;32m----> 8\u001b[0m \u001b[39mprint\u001b[39m(\u001b[39mround\u001b[39m(total\u001b[39m/\u001b[39;49m\u001b[39mlen\u001b[39;49m(student_heights)))\n",
      "\u001b[0;31mZeroDivisionError\u001b[0m: division by zero"
     ]
    }
   ],
   "source": [
    "# avr height\n",
    "student_heights = input(\"Input a list of student heights \").split()\n",
    "for n in range(0, len(student_heights)):\n",
    "  student_heights[n] = int(student_heights[n])\n",
    "total = 0\n",
    "for student_height in student_heights:\n",
    "    total+= student_height\n",
    "print(round(total/len(student_heights)))"
   ]
  },
  {
   "cell_type": "code",
   "execution_count": null,
   "metadata": {},
   "outputs": [],
   "source": [
    "# paper-scissors-stone\n",
    "rock = '''\n",
    "    _______\n",
    "---'   ____)\n",
    "      (_____)\n",
    "      (_____)\n",
    "      (____)\n",
    "---.__(___)\n",
    "'''\n",
    "\n",
    "paper = '''\n",
    "    _______\n",
    "---'   ____)____\n",
    "          ______)\n",
    "          _______)\n",
    "         _______)\n",
    "---.__________)\n",
    "'''\n",
    "\n",
    "scissors = '''\n",
    "    _______\n",
    "---'   ____)____\n",
    "          ______)\n",
    "       __________)\n",
    "      (____)\n",
    "---.__(___)\n",
    "'''\n",
    "\n",
    "#Write your code below this line 👇\n",
    "import random\n",
    "gamelist=[rock,paper, scissors ]\n",
    "user_choice=int(input('0-rock, 1-paper, 2-scisser, what do you choose?'))\n",
    "cpu_choice=int(random.randint(0,2))\n",
    "\n",
    "print(\"user: \" + gamelist[user_choice])\n",
    "print(\"cpu: \" + gamelist[cpu_choice])\n",
    "\n",
    "if (user_choice == 0 & cpu_choice == 1)|(user_choice == 1 & cpu_choice == 2)|(user_choice == 2 & cpu_choice == 0):\n",
    "  print(\"you lose\")\n",
    "elif user_choice == cpu_choice:\n",
    "  print(\"even\")\n",
    "else:\n",
    "  print(\"you win\")"
   ]
  },
  {
   "cell_type": "code",
   "execution_count": null,
   "metadata": {},
   "outputs": [],
   "source": [
    "# treasure map\n",
    "row1 = [\"⬜️\",\"️⬜️\",\"️⬜️\"]\n",
    "row2 = [\"⬜️\",\"⬜️\",\"️⬜️\"]\n",
    "row3 = [\"⬜️️\",\"⬜️️\",\"⬜️️\"]\n",
    "map = [row1, row2, row3]\n",
    "print(f\"{row1}\\n{row2}\\n{row3}\")\n",
    "position = input(\"Where do you want to put the treasure? \")\n",
    "row = int(position[0])\n",
    "col = int(position[1])\n",
    "map[col-1][row-1]=\"X\"\n",
    "print(f\"{row1}\\n{row2}\\n{row3}\")"
   ]
  },
  {
   "cell_type": "code",
   "execution_count": null,
   "metadata": {},
   "outputs": [
    {
     "name": "stdout",
     "output_type": "stream",
     "text": [
      " is going to buy the meal today!\n"
     ]
    }
   ],
   "source": [
    "#random meal dealer\n",
    "import random\n",
    "names_string = input(\"Give me everybody's names, separated by a comma. \")\n",
    "names = names_string.split(\",\")\n",
    "random_num= random.randint(0, (len(names)-1))\n",
    "selected_name=names[random_num]\n",
    "print(f\"{selected_name} is going to buy the meal today!\")"
   ]
  },
  {
   "cell_type": "code",
   "execution_count": null,
   "metadata": {},
   "outputs": [],
   "source": [
    "# random coin thrower\n",
    "import random\n",
    "random_num = random.randint(1, 2)\n",
    "if random_num == 1:\n",
    "    print(\"Heads\")\n",
    "else:\n",
    "    print(\"Tails\")"
   ]
  },
  {
   "cell_type": "code",
   "execution_count": null,
   "metadata": {},
   "outputs": [],
   "source": [
    "# treasure\n",
    "print(\"Welcome to Treasure Island.\")\n",
    "print(\"Your mission is to find the treasure.\") \n",
    "option1=input(\"left or right?\")\n",
    "if option1 == \"left\":\n",
    "    option2=input(\"swim or wait?\")\n",
    "    if option2 == 'swim':\n",
    "        option3=input(\"Which door, yellow, blue or red?\")\n",
    "        if option3 == 'blue':\n",
    "            print('you\\'ve aten by beasts. Game Over.')\n",
    "        elif option3 == 'yellow':\n",
    "            print('you win!')  \n",
    "        else:\n",
    "            print('Game Over.')\n",
    "    else:\n",
    "        print('ttacked by trout. Game Over.')\n",
    "else:\n",
    "    print(\"Fall into a hole./n Game Over.\")"
   ]
  },
  {
   "cell_type": "code",
   "execution_count": null,
   "metadata": {},
   "outputs": [],
   "source": [
    "# love predictor \n",
    "print(\"Welcome to the Love Calculator!\")\n",
    "name1 = input(\"What is your name? \\n\")\n",
    "name2 = input(\"What is their name? \\n\")\n",
    "combined = (name1+name2).lower()\n",
    "l=combined.count(\"l\")\n",
    "o=combined.count(\"o\")\n",
    "v=combined.count(\"v\")\n",
    "e=combined.count(\"e\")\n",
    "love= l+o+v+e\n",
    "\n",
    "t=combined.count(\"t\")\n",
    "r=combined.count(\"r\")\n",
    "u=combined.count(\"u\")\n",
    "true= t+r+u+e\n",
    "\n",
    "num=int(str(true)+str(love))\n",
    "if num < 10 | num > 90:\n",
    "    print(f\"Your score is ${num}, you go together like coke and mentos.\")\n",
    "elif 40 < num < 50:\n",
    "    print(f\"Your score is ${num}, you are alright together.\") \n",
    "else:\n",
    "    print(f\"Your score is ${num}.\")"
   ]
  },
  {
   "cell_type": "code",
   "execution_count": null,
   "metadata": {},
   "outputs": [],
   "source": [
    "# pizza price\n",
    "price =0\n",
    "print(\"Welcome to Python Pizza Deliveries!\")\n",
    "size = input(\"What size pizza do you want? S, M, or L \")\n",
    "add_pepperoni = input(\"Do you want pepperoni? Y or N \")\n",
    "extra_cheese = input(\"Do you want extra cheese? Y or N \")\n",
    "if size == \"S\":\n",
    "    price += 15\n",
    "elif size == \"M\":\n",
    "    price += 20\n",
    "elif size == \"L\":\n",
    "    price += 25\n",
    "if add_pepperoni == \"Y\" and size == \"S\":\n",
    "    price += 2\n",
    "elif add_pepperoni == \"Y\"and (size == \"M\" or size == \"L\"):\n",
    "    price += 3\n",
    "if extra_cheese == \"Y\":\n",
    "    price += 1\n",
    "elif extra_cheese == \"N\":\n",
    "    price += 0\n",
    "print(f\"Your final bill is: ${price}\")"
   ]
  },
  {
   "cell_type": "code",
   "execution_count": null,
   "metadata": {},
   "outputs": [],
   "source": [
    "#leap year\n",
    "year = int(input(\"Which year do you want to check? \"))\n",
    "if year%4 == 0:\n",
    "    if year%100 == 0 and year%400 == 0:\n",
    "        print(\"Not Leap year.\")\n",
    "    else:\n",
    "        print(\"Leap year.\")\n",
    "else:\n",
    "    print(\"Not leap year.\")"
   ]
  },
  {
   "cell_type": "code",
   "execution_count": null,
   "metadata": {},
   "outputs": [],
   "source": [
    "#BMI Calculator\n",
    "height = float(input(\"enter your height in m: \"))\n",
    "weight = float(input(\"enter your weight in kg: \"))\n",
    "BMI = round(weight/(height*height))\n",
    "if BMI <= 18.5:\n",
    "    print(\"Your BMI is \"+ str(BMI) +\", you are underweight.\")\n",
    "elif BMI <= 25:\n",
    "    print(\"Your BMI is \"+ str(BMI) +\", you have a normal weight.\")\n",
    "elif BMI <= 30:\n",
    "    print(\"Your BMI is \"+ str(BMI) +\", you are slightly overweight.\")\n",
    "elif BMI <= 35:\n",
    "    print(\"Your BMI is \"+ str(BMI) +\", you are obese.\")\n",
    "else:\n",
    "    print(\"Your BMI is \"+ str(BMI) +\", you are clinically obese.\")"
   ]
  },
  {
   "cell_type": "code",
   "execution_count": null,
   "metadata": {},
   "outputs": [],
   "source": [
    "# odd or even\n",
    "number = int(input(\"Which number do you want to check? \"))\n",
    "if number%2 == 0:\n",
    "    print(\"This is an even number.\")\n",
    "else:\n",
    "    print(\"This is an odd number.\")"
   ]
  },
  {
   "cell_type": "code",
   "execution_count": null,
   "metadata": {},
   "outputs": [],
   "source": [
    "# tip calculator\n",
    "bill= input(\"enter the bill: \")\n",
    "people= input(\"enter the people numbers: \")\n",
    "tip = round(int(bill)/int(people))\n",
    "print(\"your tip is \"+ str(tip))"
   ]
  },
  {
   "cell_type": "code",
   "execution_count": null,
   "metadata": {},
   "outputs": [],
   "source": [
    "print(len(input('What is your name?' )))\n",
    "# What is your name?wen\n",
    "# 3"
   ]
  }
 ],
 "metadata": {
  "kernelspec": {
   "display_name": "Python 3.8.12 ('base')",
   "language": "python",
   "name": "python3"
  },
  "language_info": {
   "codemirror_mode": {
    "name": "ipython",
    "version": 3
   },
   "file_extension": ".py",
   "mimetype": "text/x-python",
   "name": "python",
   "nbconvert_exporter": "python",
   "pygments_lexer": "ipython3",
   "version": "3.8.12"
  },
  "orig_nbformat": 4,
  "vscode": {
   "interpreter": {
    "hash": "ce03fa463f867214dc4af8c8ded60fe73abea332d8a854d0b8f1d5be5cff9b29"
   }
  }
 },
 "nbformat": 4,
 "nbformat_minor": 2
}
