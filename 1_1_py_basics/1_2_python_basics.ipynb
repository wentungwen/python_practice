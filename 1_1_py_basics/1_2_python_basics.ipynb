{
 "cells": [
  {
   "cell_type": "code",
   "execution_count": 16,
   "metadata": {},
   "outputs": [
    {
     "name": "stdout",
     "output_type": "stream",
     "text": [
      "The outcome is 10\n"
     ]
    }
   ],
   "source": [
    "\n",
    "# calculator able to renew \n",
    "def add(first, second):\n",
    "  return first + second\n",
    "def substract(first, second):\n",
    "  return first - second\n",
    "def mutiply(first, second):\n",
    "  return first * second\n",
    "def divide(first, second):\n",
    "  return first / second\n",
    "operators={\n",
    "  '+' : add,\n",
    "  '-' : substract,\n",
    "  '*' : mutiply,\n",
    "  '/' : divide\n",
    "}\n",
    "\n",
    "\n",
    "def calculator():\n",
    "  start_new = False\n",
    "  first_num = float(input('THE FIRST NUMBER?'))\n",
    "  for operator in operators:\n",
    "    print(operator)\n",
    "  \n",
    "  while not start_new:\n",
    "    operator = input('PICK A NEW OPERATOR! ')\n",
    "    second_num = float(input('PIC A NEW SECOND NUMBER?'))\n",
    "    function = operators[operator]\n",
    "    answer = function(first_num, second_num)\n",
    "    print(f\"{first_num}{operator}{second_num} = {answer}\")\n",
    "    \n",
    "    is_continue = input(f'Type y: continue with {operator}? Type n: a new calculation.')\n",
    "    if is_continue == 'y':\n",
    "      first_num = answer\n",
    "    elif is_continue == 'n':\n",
    "      start_new = True\n",
    "  else:\n",
    "    calculator()\n",
    "\n",
    "calculator()"
   ]
  },
  {
   "cell_type": "code",
   "execution_count": 8,
   "metadata": {},
   "outputs": [
    {
     "name": "stdout",
     "output_type": "stream",
     "text": [
      "28\n"
     ]
    }
   ],
   "source": [
    "# return days of months \n",
    "def is_leap(year):\n",
    "  if year % 4 == 0:\n",
    "    if year % 100 == 0:\n",
    "      if year % 400 == 0:\n",
    "        return True\n",
    "      else:\n",
    "        return False\n",
    "    else:\n",
    "      return True\n",
    "  else:\n",
    "    return False\n",
    "\n",
    "def days_in_month(year, month):\n",
    "  month_days = [31, 28, 31, 30, 31, 30, 31, 31, 30, 31, 30, 31] \n",
    "  if is_leap(year) & month == 2:\n",
    "    days = 29\n",
    "  else:\n",
    "    days = month_days[month-1]\n",
    "  return days\n",
    "\n",
    "year = int(input(\"Enter a year: \"))\n",
    "month = int(input(\"Enter a month: \"))\n",
    "days = days_in_month(year, month)\n",
    "print(days)"
   ]
  },
  {
   "cell_type": "code",
   "execution_count": 7,
   "metadata": {},
   "outputs": [
    {
     "name": "stdout",
     "output_type": "stream",
     "text": [
      "n\n",
      "end\n",
      "the highest price is a's 2\n"
     ]
    }
   ],
   "source": [
    "# auction system\n",
    "\n",
    "import os\n",
    "clear = lambda: os.system('cls')\n",
    "\n",
    "bid_list = {}\n",
    "end_bid = False\n",
    "\n",
    "def enter_bid(name, price):\n",
    "  bid_list[name]=price\n",
    "\n",
    "def pick_the_highest():\n",
    "  for name in bid_list:\n",
    "    highest_price = 0\n",
    "    highest_name = \"\"\n",
    "    if bid_list[name] > highest_price:\n",
    "      highest_price = bid_list[name]\n",
    "      highest_name = name\n",
    "  clear()\n",
    "  print(f\"the highest price is {str(highest_name)}'s {str(highest_price)}\")\n",
    "\n",
    "while not end_bid:\n",
    "  name = input(str(\"What is your name?\\n\"))\n",
    "  price = int(input(\"what is the price\\n\"))\n",
    "  enter_bid(name, price)\n",
    "  is_another_bid = input(\"Is there another person? y/n\\n\")\n",
    "  if is_another_bid == \"y\":\n",
    "    end_bid = False\n",
    "    clear()\n",
    "  else:\n",
    "    end_bid = True\n",
    "else:\n",
    "  pick_the_highest()"
   ]
  },
  {
   "cell_type": "code",
   "execution_count": null,
   "metadata": {},
   "outputs": [],
   "source": [
    "# travel log\n",
    "travel_log = [\n",
    "{\n",
    "  \"country\": \"France\",\n",
    "  \"visits\": 12,\n",
    "  \"cities\": [\"Paris\", \"Lille\", \"Dijon\"]\n",
    "},\n",
    "{\n",
    "  \"country\": \"Germany\",\n",
    "  \"visits\": 5,\n",
    "  \"cities\": [\"Berlin\", \"Hamburg\", \"Stuttgart\"]\n",
    "},\n",
    "]\n",
    "\n",
    "def add_new_country(country, visit, places):\n",
    "    new_country={}\n",
    "    new_country['country'] = country\n",
    "    new_country['visits'] = visit\n",
    "    new_country['places'] = places\n",
    "    travel_log.append(new_country)\n",
    "    \n",
    "add_new_country(\"Russia\", 2, [\"Moscow\", \"Saint Petersburg\"])\n",
    "print(travel_log)"
   ]
  },
  {
   "cell_type": "code",
   "execution_count": 3,
   "metadata": {},
   "outputs": [
    {
     "name": "stdout",
     "output_type": "stream",
     "text": [
      "Harry 81\n",
      "Ron 78\n",
      "Hermione 99\n",
      "Draco 74\n",
      "Neville 62\n",
      "{'Harry': 'Fail', 'Ron': 'Fail', 'Hermione': 'Outstanding', 'Draco': 'Fail', 'Neville': 'Acceptable'}\n"
     ]
    }
   ],
   "source": [
    "# grade ranking\n",
    "student_scores = {\n",
    "    \"Harry\": 81,\n",
    "    \"Ron\": 78,\n",
    "    \"Hermione\": 99,\n",
    "    \"Draco\": 74,\n",
    "    \"Neville\": 62,\n",
    "}\n",
    "student_grades = {}\n",
    "for name in student_scores:\n",
    "    score = student_scores[name]\n",
    "    print(name, score)\n",
    "    if score > 91:\n",
    "        student_scores[name] = \"Outstanding\"\n",
    "    elif score > 81:\n",
    "        student_scores[name] = \"Exceeds Expectations\"\n",
    "    elif score < 71:\n",
    "        student_scores[name] = \"Acceptable\"\n",
    "    else:\n",
    "        student_scores[name] = \"Fail\"\n",
    "student_grades = student_scores\n",
    "print(student_grades)\n"
   ]
  },
  {
   "cell_type": "code",
   "execution_count": 2,
   "metadata": {},
   "outputs": [
    {
     "name": "stdout",
     "output_type": "stream",
     "text": [
      "key1\n",
      "value1_1\n",
      "key2\n",
      "value2\n",
      "key3\n",
      "value3\n",
      "key4\n",
      "value4\n"
     ]
    }
   ],
   "source": [
    "# dic basic\n",
    "dic = {\n",
    "    'key1': 'value1',\n",
    "    'key2': 'value2',\n",
    "    'key3': 'value3'\n",
    "}\n",
    "# reach item\n",
    "dic[\"key1\"]\n",
    "# edit item\n",
    "dic[\"key1\"] = \"value1_1\"\n",
    "# add new\n",
    "dic[\"key4\"] = \"value4\"\n",
    "# loop through \"key\" and \"value\"\n",
    "for key in dic:\n",
    "    print(key)\n",
    "    print(dic[key])\n"
   ]
  },
  {
   "cell_type": "code",
   "execution_count": null,
   "metadata": {},
   "outputs": [],
   "source": [
    "# paint can calculator\n",
    "def paint_calc(height, width, cover):\n",
    "    cans = round((height*width)/cover)\n",
    "    print(f\"You'll need {cans} cans of paint.\")\n",
    "\n",
    "\n",
    "test_h = int(input(\"Height of wall: \"))\n",
    "test_w = int(input(\"Width of wall: \"))\n",
    "coverage = 5\n",
    "paint_calc(height=test_h, width=test_w, cover=coverage)\n"
   ]
  },
  {
   "cell_type": "code",
   "execution_count": null,
   "metadata": {},
   "outputs": [],
   "source": [
    "# prime number\n",
    "def prime_checker(number):\n",
    "    is_prime = True\n",
    "    for n in range(2, number):\n",
    "        if number % n == 0:\n",
    "            is_prime = False\n",
    "    if is_prime == False:\n",
    "        print(\"It's not a prime number.\")\n",
    "    elif is_prime == True:\n",
    "        print(\"It's a prime number.\")\n",
    "\n",
    "\n",
    "n = int(input(\"Check this number: \"))\n",
    "prime_checker(number=n)\n"
   ]
  }
 ],
 "metadata": {
  "kernelspec": {
   "display_name": "Python 3",
   "language": "python",
   "name": "python3"
  },
  "language_info": {
   "codemirror_mode": {
    "name": "ipython",
    "version": 3
   },
   "file_extension": ".py",
   "mimetype": "text/x-python",
   "name": "python",
   "nbconvert_exporter": "python",
   "pygments_lexer": "ipython3",
   "version": "3.9.6 (default, Oct 18 2022, 12:41:40) \n[Clang 14.0.0 (clang-1400.0.29.202)]"
  },
  "orig_nbformat": 4,
  "vscode": {
   "interpreter": {
    "hash": "31f2aee4e71d21fbe5cf8b01ff0e069b9275f58929596ceb00d14d90e3e16cd6"
   }
  }
 },
 "nbformat": 4,
 "nbformat_minor": 2
}
